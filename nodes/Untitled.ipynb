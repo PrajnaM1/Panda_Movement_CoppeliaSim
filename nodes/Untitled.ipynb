{
 "cells": [
  {
   "cell_type": "code",
   "execution_count": 10,
   "metadata": {},
   "outputs": [],
   "source": [
    "import rospy\n",
    "import time"
   ]
  },
  {
   "cell_type": "code",
   "execution_count": 12,
   "metadata": {},
   "outputs": [
    {
     "name": "stdout",
     "output_type": "stream",
     "text": [
      "('Published..', [-0.06528515368700027, -0.15464693307876587, 0.04268944635987282, -1.7321661710739136, 0.0369095504283905, 1.5662511587142944, 0.7678743600845337, 0.0, 0.0])\n"
     ]
    }
   ],
   "source": [
    "from sensor_msgs.msg import JointState\n",
    "state_pub = rospy.Publisher(\"/panda/joint_states\", JointState, queue_size = 1)\n",
    "\n",
    "rospy.init_node('grasp_release_server')\n",
    "\n",
    "joint = JointState()\n",
    "joint.header.stamp = rospy.Time.now()\n",
    "joint.name = [\"panda_joint1\", \"panda_joint2\",\"panda_joint3\",\"panda_joint4\",\"panda_joint5\",\"panda_joint6\",\"panda_joint7\",\"panda_finger_joint1\",\"panda_finger_joint2\"]\n",
    "current_position = [-0.06528515368700027, -0.15464693307876587, 0.04268944635987282, -1.7321661710739136, 0.0369095504283905, 1.5662511587142944, 0.7678743600845337, 0.0, 0.0]\n",
    "joint.position = current_position\n",
    "joint.position[-1] = 0.0\n",
    "joint.position[-2] = 0.0\n",
    "state_pub.publish(joint)\n",
    "time.sleep(5)\n",
    "print(\"Published..\", joint.position)\n"
   ]
  },
  {
   "cell_type": "code",
   "execution_count": null,
   "metadata": {},
   "outputs": [],
   "source": []
  },
  {
   "cell_type": "code",
   "execution_count": null,
   "metadata": {},
   "outputs": [],
   "source": []
  }
 ],
 "metadata": {
  "kernelspec": {
   "display_name": "Python 2",
   "language": "python",
   "name": "python2"
  },
  "language_info": {
   "codemirror_mode": {
    "name": "ipython",
    "version": 2
   },
   "file_extension": ".py",
   "mimetype": "text/x-python",
   "name": "python",
   "nbconvert_exporter": "python",
   "pygments_lexer": "ipython2",
   "version": "2.7.17"
  }
 },
 "nbformat": 4,
 "nbformat_minor": 2
}
